{
 "cells": [
  {
   "cell_type": "markdown",
   "metadata": {
    "collapsed": true
   },
   "source": [
    "## Guided Project: Hacker News\n",
    "\n",
    "### In this project, we'll work with a data set of submissions to popular technology site Hacker News.\n",
    "\n",
    "Hacker News is a site started by the startup incubator Y Combinator, where user-submitted stories (known as \"posts\") are voted and commented upon, similar to reddit. Hacker News is extremely popular in technology and startup circles, and posts that make it to the top of Hacker News' listings can get hundreds of thousands of visitors as a result.\n",
    "\n",
    "The dataset has been reduced from almost 300,000 rows to approximately 20,000 rows by removing all submissions that did not receive any comments, and then randomly sampling from the remaining submissions.\n",
    "\n",
    "We're specifically interested in posts whose titles begin with either Ask HN or Show HN. Users submit Ask HN posts to ask the Hacker News community a specific question.\n",
    "\n",
    "### We'll compare these two types of posts to determine the following:\n",
    "\n",
    "1. Do Ask HN or Show HN receive more comments on average?\n",
    "2. Do posts created at a certain time receive more comments on average?"
   ]
  },
  {
   "cell_type": "code",
   "execution_count": null,
   "metadata": {},
   "outputs": [],
   "source": [
    "from csv import reader\n",
    "import datetime as dt\n",
    "import inspect as i\n",
    "\n",
    "open_file = open(\"hacker_news.csv\")\n",
    "read_file = reader(open_file)\n",
    "#assigning dataset from the hacker_news.csv to list of lists: hn\n",
    "hn = list(read_file)\n",
    "print(hn[0:5])"
   ]
  },
  {
   "cell_type": "code",
   "execution_count": 2,
   "metadata": {},
   "outputs": [
    {
     "name": "stdout",
     "output_type": "stream",
     "text": [
      "[['id', 'title', 'url', 'num_points', 'num_comments', 'author', 'created_at']]\n"
     ]
    }
   ],
   "source": [
    "#Storing the header row in list: headers\n",
    "headers = hn[0:1]\n",
    "print(headers)"
   ]
  },
  {
   "cell_type": "code",
   "execution_count": 3,
   "metadata": {},
   "outputs": [
    {
     "name": "stdout",
     "output_type": "stream",
     "text": [
      "[['12224879', 'Interactive Dynamic Video', 'http://www.interactivedynamicvideo.com/', '386', '52', 'ne0phyte', '8/4/2016 11:52'], ['10975351', 'How to Use Open Source and Shut the Fuck Up at the Same Time', 'http://hueniverse.com/2016/01/26/how-to-use-open-source-and-shut-the-fuck-up-at-the-same-time/', '39', '10', 'josep2', '1/26/2016 19:30'], ['11964716', \"Florida DJs May Face Felony for April Fools' Water Joke\", 'http://www.thewire.com/entertainment/2013/04/florida-djs-april-fools-water-joke/63798/', '2', '1', 'vezycash', '6/23/2016 22:20'], ['11919867', 'Technology ventures: From Idea to Enterprise', 'https://www.amazon.com/Technology-Ventures-Enterprise-Thomas-Byers/dp/0073523429', '3', '1', 'hswarna', '6/17/2016 0:01'], ['10301696', 'Note by Note: The Making of Steinway L1037 (2007)', 'http://www.nytimes.com/2007/11/07/movies/07stein.html?_r=0', '8', '2', 'walterbell', '9/30/2015 4:12']]\n"
     ]
    }
   ],
   "source": [
    "#List of lists cleaned to contain all data except the header\n",
    "hn = hn[1:]\n",
    "print(hn[0:5])"
   ]
  },
  {
   "cell_type": "markdown",
   "metadata": {},
   "source": [
    "<i> Determining the posts starting with \"Ask HN\", \"Show HN\" and others</i>"
   ]
  },
  {
   "cell_type": "markdown",
   "metadata": {},
   "source": [
    "The lists below will be used to store the rows where the title matches one of the above 3 criteria: \n",
    "ask_posts, show_posts, other_posts"
   ]
  },
  {
   "cell_type": "code",
   "execution_count": 5,
   "metadata": {},
   "outputs": [
    {
     "name": "stdout",
     "output_type": "stream",
     "text": [
      "1744\n",
      "1162\n",
      "17194\n"
     ]
    }
   ],
   "source": [
    "#Lists Initialisation\n",
    "ask_posts = []\n",
    "show_posts = []\n",
    "other_posts = []\n",
    "\n",
    "for row in hn:\n",
    "    title = row[1]\n",
    "    title = title.lower()\n",
    "    if (title.startswith(\"ask hn\")):\n",
    "        ask_posts.append(row)\n",
    "    elif (title.startswith(\"show hn\")):\n",
    "        show_posts.append(row)\n",
    "    else:\n",
    "        other_posts.append(row)\n",
    "print(len(ask_posts))\n",
    "print(len(show_posts))\n",
    "print(len(other_posts))\n"
   ]
  },
  {
   "cell_type": "code",
   "execution_count": 6,
   "metadata": {},
   "outputs": [
    {
     "name": "stdout",
     "output_type": "stream",
     "text": [
      "[['12296411', 'Ask HN: How to improve my personal website?', '', '2', '6', 'ahmedbaracat', '8/16/2016 9:55'], ['10610020', 'Ask HN: Am I the only one outraged by Twitter shutting down share counts?', '', '28', '29', 'tkfx', '11/22/2015 13:43'], ['11610310', 'Ask HN: Aby recent changes to CSS that broke mobile?', '', '1', '1', 'polskibus', '5/2/2016 10:14'], ['12210105', 'Ask HN: Looking for Employee #3 How do I do it?', '', '1', '3', 'sph130', '8/2/2016 14:20'], ['10394168', 'Ask HN: Someone offered to buy my browser extension from me. What now?', '', '28', '17', 'roykolak', '10/15/2015 16:38']]\n"
     ]
    }
   ],
   "source": [
    "print(ask_posts[0:5])"
   ]
  },
  {
   "cell_type": "markdown",
   "metadata": {},
   "source": [
    "Next, let's determine if ask posts or show posts receive more comments on average. Before we do that, lets change the type for comments from str to int"
   ]
  },
  {
   "cell_type": "code",
   "execution_count": 17,
   "metadata": {},
   "outputs": [
    {
     "name": "stdout",
     "output_type": "stream",
     "text": [
      "<class 'int'>\n",
      "<class 'int'>\n",
      "<class 'str'>\n",
      "<class 'int'>\n"
     ]
    }
   ],
   "source": [
    "print(type(ask_posts[0][4]))\n",
    "for row in ask_posts:\n",
    "    var = row[4]\n",
    "    row[4] = int(var)\n",
    "print(type(ask_posts[0][4]))\n",
    "\n",
    "print(type(show_posts[0][4]))\n",
    "for row in show_posts:\n",
    "    var = row[4]\n",
    "    row[4] = int(var)\n",
    "print(type(show_posts[0][4]))"
   ]
  },
  {
   "cell_type": "code",
   "execution_count": 18,
   "metadata": {},
   "outputs": [
    {
     "name": "stdout",
     "output_type": "stream",
     "text": [
      "Average Ask HN Comments are 14.038417431192661\n",
      "Average Show HN Comments are 10.31669535283993\n"
     ]
    }
   ],
   "source": [
    "def averagecomments(listname, commentindex = 4):\n",
    "    total_comments = 0\n",
    "    sum_comments = 0\n",
    "    for row in listname:\n",
    "        numcomments = row[commentindex]\n",
    "        if numcomments > 0:\n",
    "            total_comments += 1\n",
    "            sum_comments += numcomments\n",
    "    avg_comments = sum_comments/total_comments\n",
    "    return(avg_comments)\n",
    "\n",
    "avg_ask_comments = averagecomments(ask_posts,4)\n",
    "avg_show_comments = averagecomments(show_posts,4)\n",
    "print(\"{} Comments are {}\".format(\"Average Ask HN\", avg_ask_comments))\n",
    "print(\"{} Comments are {}\".format(\"Average Show HN\", avg_show_comments))"
   ]
  },
  {
   "cell_type": "markdown",
   "metadata": {},
   "source": [
    "###### From the dataset, as evidenced, titles starting with \"Ask HN\" has an average of 14 comments. Articles starting with \"Show HN\" has an average of 10 comments. As such Ask HN articles have higher average comments in general."
   ]
  },
  {
   "cell_type": "code",
   "execution_count": 54,
   "metadata": {},
   "outputs": [
    {
     "name": "stdout",
     "output_type": "stream",
     "text": [
      "Counts by Hour \n",
      " {'23': 68, '05': 46, '16': 108, '19': 110, '17': 100, '13': 85, '22': 71, '15': 116, '03': 54, '14': 107, '06': 44, '08': 48, '09': 45, '18': 109, '00': 55, '02': 58, '20': 80, '04': 47, '21': 109, '10': 59, '01': 60, '12': 73, '07': 34, '11': 58}\n",
      "Comments by Hour \n",
      " {'23': 543, '05': 464, '16': 1814, '19': 1188, '17': 1146, '13': 1253, '22': 479, '15': 4477, '03': 421, '14': 1416, '06': 397, '08': 492, '09': 251, '18': 1439, '00': 447, '02': 1381, '20': 1722, '04': 337, '21': 1745, '10': 793, '01': 683, '12': 687, '07': 267, '11': 641}\n"
     ]
    }
   ],
   "source": [
    "#Creating a frequency table to store comments received for the posts created at each hour of day:\n",
    "\n",
    "#Below Dictionary to store the hour as key and comments received as value\n",
    "comments_by_hour = {}\n",
    "\n",
    "#Below Dictionary to store the hours as keys and number of ask posts created as values\n",
    "counts_by_hour = {}\n",
    "\n",
    "for row in ask_posts:\n",
    "    created_at = row[-1]\n",
    "    created_at = dt.datetime.strptime(created_at,\"%m/%d/%Y %H:%M\")\n",
    "    hour = created_at.time()\n",
    "    hour = created_at.strftime(\"%H\")\n",
    "    if hour not in comments_by_hour:\n",
    "        comments_by_hour[hour] = row[4]\n",
    "        counts_by_hour[hour] = 1\n",
    "    else:\n",
    "        comments_by_hour[hour] += row[4]\n",
    "        counts_by_hour[hour] += 1\n",
    "        \n",
    "print(\"Counts by Hour \\n\", counts_by_hour)\n",
    "print(\"Comments by Hour \\n\", comments_by_hour)"
   ]
  },
  {
   "cell_type": "markdown",
   "metadata": {},
   "source": [
    "#### Calculation for the average number of comments per post for posts created during each hour of the day."
   ]
  },
  {
   "cell_type": "code",
   "execution_count": 68,
   "metadata": {},
   "outputs": [
    {
     "name": "stdout",
     "output_type": "stream",
     "text": [
      "[[7.985294117647059, '23'], [10.08695652173913, '05'], [16.796296296296298, '16'], [10.8, '19'], [11.46, '17'], [14.741176470588234, '13'], [6.746478873239437, '22'], [38.5948275862069, '15'], [7.796296296296297, '03'], [13.233644859813085, '14'], [9.022727272727273, '06'], [10.25, '08'], [5.5777777777777775, '09'], [13.20183486238532, '18'], [8.127272727272727, '00'], [23.810344827586206, '02'], [21.525, '20'], [7.170212765957447, '04'], [16.009174311926607, '21'], [13.440677966101696, '10'], [11.383333333333333, '01'], [9.41095890410959, '12'], [7.852941176470588, '07'], [11.051724137931034, '11']]\n"
     ]
    }
   ],
   "source": [
    "# List declaration\n",
    "avg_comments_per_hourly_post = []\n",
    "total_comments = 0\n",
    "#Logic to populate avg_comments_per_hourly_post which will hold\n",
    "#average number of comments for posts created during each hour of the day\n",
    "for row in comments_by_hour:\n",
    "    num_comments = int(comments_by_hour[row])\n",
    "    num_posts = int(counts_by_hour[row])\n",
    "    # avg_comments_per_hourly_post list of lists will hold the average comments, hour to make it easier to sort\n",
    "    avg_comments_per_hourly_post.append([num_comments/num_posts, row])\n",
    "print(avg_comments_per_hourly_post)    "
   ]
  },
  {
   "cell_type": "markdown",
   "metadata": {},
   "source": [
    "### Now applying sorting on the list to display the top 5 hours where the average comments received were the highest"
   ]
  },
  {
   "cell_type": "code",
   "execution_count": 75,
   "metadata": {},
   "outputs": [
    {
     "name": "stdout",
     "output_type": "stream",
     "text": [
      "Top 5 Hours for Ask Posts Comments\n",
      "Created at 15:00 Hours : Average Comments Received 38.59\n",
      "Created at 2:00 Hours : Average Comments Received 23.81\n",
      "Created at 20:00 Hours : Average Comments Received 21.52\n",
      "Created at 16:00 Hours : Average Comments Received 16.80\n",
      "Created at 21:00 Hours : Average Comments Received 16.01\n"
     ]
    }
   ],
   "source": [
    "avg_comments_per_hourly_post = sorted(avg_comments_per_hourly_post,reverse = True)\n",
    "\n",
    "print(\"Top 5 Hours for Ask Posts Comments\")\n",
    "for row in avg_comments_per_hourly_post[0:5]:\n",
    "    comments = int(row[1])\n",
    "    row[1] = comments\n",
    "    print(\"Created at {}:00 Hours : Average Comments Received {:.2f}\".format(row[1],row[0]))\n",
    "    \n"
   ]
  },
  {
   "cell_type": "code",
   "execution_count": null,
   "metadata": {
    "collapsed": true
   },
   "outputs": [],
   "source": []
  }
 ],
 "metadata": {
  "kernelspec": {
   "display_name": "Python 3",
   "language": "python",
   "name": "python3"
  },
  "language_info": {
   "codemirror_mode": {
    "name": "ipython",
    "version": 3
   },
   "file_extension": ".py",
   "mimetype": "text/x-python",
   "name": "python",
   "nbconvert_exporter": "python",
   "pygments_lexer": "ipython3",
   "version": "3.4.3"
  }
 },
 "nbformat": 4,
 "nbformat_minor": 2
}
